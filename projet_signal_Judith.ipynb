{
 "cells": [
  {
   "cell_type": "markdown",
   "metadata": {},
   "source": [
    "# Mini-projet groupe 2 : interpolation de données manquantes\n",
    "Contexte : dans le cadre d'acquisition de données sismiques, des capteurs (récepteurs) sont positionnés le long d'une ligne à la surface de la terre. Chacun enregistre au cours du temps le deplacement des particules (signal oscillant) qui varie lors du passage d'une onde acoustique ou élastique. Cet enregistrement s'appelle une **trace**.\n",
    "\n",
    "En pratique, il arrive que certains capteurs sont défaillants ou encore qu'ils ne sont pas présents dans certaines zones (pour des problèmes d'accessibilité par exemple). L'objectif principal du mini-projet est de reconstituer les traces manquantes.\n",
    "\n",
    "Hypotheses : nous ferons l'hypothèse importante que les **signaux correspondent à la superposition lineaire d'ondes planes** dans les enregistrements (voir l'exemple fourni plus bas avec 3 événements).\n",
    "\n",
    "Notions abordées : \n",
    "* Analyse des signaux après transformée de Fourier 2d\n",
    "* Analyse de signaux aliasés\n",
    "* Régularisation et formulation sous forme de problème inverse\n",
    "\n",
    "Pour cela, deux approches sont considerées :\n",
    "* Approche 1 : transformée de Fourier 2d, identification des événements principaux, définition d'un masque et reconstitution des traces manquantes\n",
    "* Approche 2 : suite de l'approche 1 pour s'assurer que la prédiction respecte bien les observables. Elle se fait au travers de la résolution d'un problème inverse avec ajout de régularisation\n",
    "\n",
    "Attentes :\n",
    "* Développement des approches 1 et 2 sur des données fournies ici\n",
    "* Discusssion des limites des approches sur des exemples que vous pourrez créer vous-mêmes\n",
    "\n",
    "Consignes :\n",
    "* **Très important** : pour toutes les figures, bien indiquer les axes avec les bonnes unités et des labels de taille lisibles"
   ]
  },
  {
   "cell_type": "code",
   "execution_count": null,
   "metadata": {},
   "outputs": [],
   "source": [
    "import numpy as np\n",
    "import matplotlib.pyplot as plt\n",
    "# Pour la question 4\n",
    "from scipy.optimize import minimize"
   ]
  },
  {
   "cell_type": "code",
   "execution_count": null,
   "metadata": {},
   "outputs": [],
   "source": [
    "# Labelsize (display)\n",
    "labelsize   = 14\n",
    "    \n",
    "# Load the input data\n",
    "# Input data (with missing traces)\n",
    "gpanel = np.load('gpanel.npy')\n",
    "# Dense data (with all traces, only for comparison)\n",
    "panel_dense = np.load('panel_dense.npy')\n",
    "nt, nx = gpanel.shape\n",
    "\n",
    "# Vertical axis -- time\n",
    "dt   = 3.125e-3  # increment (s)\n",
    "at   = np.linspace(0, dt*(nt-1), nt)\n",
    "# Horizontal axis -- space\n",
    "dx   = 10. # increment (m)\n",
    "ax   = np.linspace(0, dx*(nx-1), nx)"
   ]
  },
  {
   "cell_type": "code",
   "execution_count": null,
   "metadata": {},
   "outputs": [],
   "source": [
    "# Display of the input data\n",
    "vmax = np.max(np.abs(gpanel))\n",
    "fig = plt.figure()\n",
    "av = plt.subplot(111)\n",
    "plt.imshow(gpanel, aspect='auto')\n",
    "plt.title('Observables (avec traces manquantes mises à zero)', fontsize=labelsize)\n",
    "av.set_ylabel(\"Time (s)\", fontsize=labelsize)\n",
    "av.set_xlabel(\"Position x (m)\", fontsize=labelsize)\n",
    "av.tick_params(axis='both', which='major', labelsize=labelsize)\n",
    "plt.clim([-vmax,vmax])\n",
    "plt.set_cmap('bwr')\n",
    "\n",
    "fig = plt.figure()\n",
    "av = plt.subplot(111)\n",
    "plt.imshow(panel_dense, extent=[ax[0],ax[-1],at[-1],at[0]], aspect='auto')\n",
    "plt.title('Observables (seulement pour comparaison)', fontsize=labelsize)\n",
    "av.set_ylabel(\"Time (s)\", fontsize=labelsize)\n",
    "av.set_xlabel(\"Position x (m)\", fontsize=labelsize)\n",
    "av.tick_params(axis='both', which='major', labelsize=labelsize)\n",
    "plt.clim([-vmax,vmax])\n",
    "plt.set_cmap('bwr')"
   ]
  },
  {
   "cell_type": "markdown",
   "metadata": {},
   "source": [
    "# Question 1 : analyse des données dans le domaine de Fourier 2d\n",
    "Représenter la transformée de Fourier 2d et bien préciser les axes. Indiquer à quoi correspond la fréquence maximale et le nombre d'onde maximal. Faire le lien entre les événements dans l'espace $(t,x)$ et ceux dans l'espace de Fourier. Expliquer ce qu'il se passe aux bords dans le domaine de Fourier. Ne pas hésiter à zoomer dans le domaine de Fourier."
   ]
  },
  {
   "cell_type": "code",
   "execution_count": null,
   "metadata": {},
   "outputs": [],
   "source": [
    "tf = np.fft.fftshift(np.fft.fft2(gpanel))\n",
    "af1 = np.fft.fftfreq(len(gpanel[0]), d=dx)\n",
    "af2 = np.fft.fftfreq(len(gpanel), d=dt)\n",
    "\n",
    "vmax = np.max(np.abs(tf))\n",
    "fig = plt.figure()\n",
    "av = plt.subplot(111)\n",
    "plt.imshow(np.abs(tf), extent=[af1[-1],-af1[-1],-af2[-1],af2[-1]], aspect='auto')\n",
    "plt.title('Transformée de Fourier (avec traces manquantes mises à zero)', fontsize=labelsize)\n",
    "av.set_ylabel(\"Fréquence (s$^{-1}$)\", fontsize=labelsize)\n",
    "av.set_xlabel(\"Nombre d'onde (m$^{-1}$)\", fontsize=labelsize)\n",
    "av.tick_params(axis='both', which='major', labelsize=labelsize)\n",
    "plt.clim(-vmax, vmax)\n",
    "#plt.ylim(-0.15, 0.15)\n",
    "plt.set_cmap('bwr')\n"
   ]
  },
  {
   "cell_type": "markdown",
   "metadata": {},
   "source": [
    "# Question 2 : définition d'un masque dans le domaine de Fourier 2d\n",
    "On note $f$ la fréquence et $k_x$ le nombre d'onde. Dans le domaine de Fourier 2d, on souhaite definir un masque avec des 1 qui couvrent les événements principaux. On va supposer que les événements dans le domaine $(t,x)$ sont linéaires. Montrer qu'il en est de même dans le domaine $(f,k_x)$. A partir de $(f,k_x)=(0,0)$, faire des sommations selon différentes pentes (dans le domaine de Fourier, apres avoir pris le module des valeurs complexes) et tracer la valeur de ces sommes en fonction de la pente. On s'attend à ce que 3 valeurs ressortent. Calculer une fonction qui sélectionne automatiquement ces valeurs et construire un masque dans le domaine de Fourier 2d qui vaut 1 autour de ces trois valeurs principales et 0 en dehors."
   ]
  },
  {
   "cell_type": "code",
   "execution_count": null,
   "metadata": {},
   "outputs": [],
   "source": [
    "abs_data = np.abs(np.fft.fft2(gpanel))\n",
    "\n",
    "nb_pentes = 40\n",
    "\n",
    "tableau_pentes = [1/n for n in range(30, 0, -1)] + [100/n for n in range(100, 10, -1)]\n",
    "# tableau_pentes = [100/n for n in range(3000, 0, -1)]\n",
    "\n",
    "\n",
    "tableau_sommation_pentes = []\n",
    "for pente in tableau_pentes:\n",
    "    f, k_x = 0, 0\n",
    "    somme = 0\n",
    "    i=0\n",
    "    while True:\n",
    "        try:\n",
    "            somme += abs_data[f, k_x]\n",
    "            f += int(i*pente)\n",
    "            k_x += 1\n",
    "            i+=1\n",
    "        except Exception as e:\n",
    "            # print(\"---\")\n",
    "            # print(\"i \", i)\n",
    "            # # print(e)\n",
    "            # print(f, k_x)\n",
    "            break\n",
    "\n",
    "    tableau_sommation_pentes.append(somme)\n",
    "\n",
    "tableau_sommation_pentes = np.array(tableau_sommation_pentes)\n",
    "plt.plot(tableau_sommation_pentes);"
   ]
  },
  {
   "cell_type": "code",
   "execution_count": null,
   "metadata": {},
   "outputs": [],
   "source": [
    "nb_peaks = 3\n",
    "peaks = [0]*nb_peaks\n",
    "tab = np.copy(tableau_sommation_pentes)\n",
    "for i in range(nb_peaks):\n",
    "    peaks[i] = np.argmax(tab)\n",
    "    tab[peaks[i]-15:peaks[i]+40//(i+1)] = 0\n",
    "\n",
    "plt.plot(tableau_sommation_pentes);\n",
    "plt.scatter(peaks, tableau_sommation_pentes[peaks], color=\"red\");"
   ]
  },
  {
   "cell_type": "markdown",
   "metadata": {},
   "source": [
    "# Question 3 : application du masque et analyse des résultats\n",
    "Appliquer le masque (sur les données après transformée de Fourier 2d, sans prendre le module des valeurs), puis appliquer la transformée de Fourier inverse. Commenter les résultats (comparaison à la fois dans les domaines $(t,x)$ et $(f,k_x)$). Si nécessaire, revenir à la question 2 pour changer le masque et avoir une meilleure interpolation des données. Expliquer ces changements."
   ]
  },
  {
   "cell_type": "code",
   "execution_count": null,
   "metadata": {},
   "outputs": [],
   "source": []
  },
  {
   "cell_type": "markdown",
   "metadata": {},
   "source": [
    "# Question 4 : amélioration de l'approche 1\n",
    "Le résultat de l'approche 1 montre en pratique que les données prédites après transformée de Fourier inverse 2d ne calent pas parfaitement aux données observées (pour les traces non nulles). C'est un inconvénient, mais d'un autre côté, ceci offre la possibilité d'aller plus loin forcer un bon calage.\n",
    "\n",
    "Pour cela, nous définissons une fonction objective\n",
    "\n",
    "$$\n",
    "J[p] = \\frac{1}{2}||T p - p^\\mathrm{obs}||_2^2 + \\frac{\\alpha}{2} || F p ||_M^2\n",
    "$$\n",
    "\n",
    "où $p(t,x)$ sont les signaux (sur toutes les traces), $T$ l'operateur qui vaut 1 pour des traces existantes et 0 sinon, $p(t,x)^\\mathrm{obs}$ les observables (i.e. pour les traces non nulles), $F$ la transformee de Fourier 2d. La norme $||p||_2^2 = \\sum_x \\sum_t |p(t,x)|^2$ et $||q||_M^2= \\sum_x \\sum_t M(f,k_x)|q(f,k_x)|^2$, avec $M$ un masque. Le poids $\\alpha$ est une pondération entre les deux termes.\n",
    "\n",
    "On cherche à minimiser $J$. Le meilleur $p$ sera celui qui minimise l'écart aux données (premier terme) tout en minimisant l'énergie dans le domaine de Fourier 2d. Par rapport au masque $M_0$ des questions 2 et 3, on prend ici $M=1 - M_0$. Expliquer pourquoi.\n",
    "\n",
    "La minimisation se fait de manière iterative, avec la fonction ```minimize``` de scipy (```from scipy.optimize import minimize```). Parmi plusieurs possibilités, je suggère de prendre une approche de gradient conjugué (CG). La minisation va se faire selon :\n",
    "\n",
    "```\n",
    "res = minimize(defj, p0, method='CG', jac=defg, \\\n",
    "        options={'disp': True, 'maxiter':niter})\n",
    "```\n",
    "\n",
    "Il faut donc créer une valeur initiale pour $p$ (ici ```p0```), spécifier le nombre d'itérations ```niter``` et surtour définir la fonction objective ```defj()``` et son gradient par rapport à $p$ ```defg()```.\n",
    "\n",
    "Le gradient est donné par \n",
    "\n",
    "$$\n",
    "\\frac{\\partial J}{\\partial p} = T^t(T p - p^\\mathrm{obs}) + \\alpha F^t M F p\n",
    "$$\n",
    "\n",
    "où $^t$ est l'opérateur transposée. L'application de $T^t$ correspond donc à insérer des traces nulles là où il n'y a pas d'observables et $F^t$ est la transformée de Fourier inverse.\n",
    "\n",
    "Construire les fonctions ```defj()``` et ```defg()```. Attention, ```minimize``` attend que ```p``` soit sous forme de vecteur. On peut donc utiliser ```np.transpose(p,nt*nx)```.\n",
    "\n",
    "$\\alpha$ est une pondération dont la valeur est à tester (optimalement les deux termes ont a peu près la même valeur).\n",
    "\n",
    "La valeur initiale ```p0``` de $p$ peut être prise égale à ```gpanel``` (le tableau lu au début du code).\n",
    "\n",
    "Faire plusieurs itérations. Analyser les résultats à la fois dans le domaine temporel et dans le domaine de Fourier 2d. "
   ]
  },
  {
   "cell_type": "code",
   "execution_count": null,
   "metadata": {},
   "outputs": [],
   "source": [
    "# Exemple de structure du code\n",
    "def defj(p):\n",
    "    \"\"\"Definition of the objective function\"\"\"\n",
    "    # Retrieve the size\n",
    "    pan = np.reshape(p,[nt,nx])\n",
    "    j0  = 0.\n",
    "    # ADD\n",
    "    #\n",
    "    return j0\n",
    "    \n",
    "    \n",
    "def defg(p):\n",
    "    \"\"\"Definition of the gradient of the objective function\"\"\"\n",
    "    # Retrieve the size\n",
    "    pan = np.reshape(p,[nt,nx])\n",
    "    grd = np.zeros([nt,nx])\n",
    "    #\n",
    "    # ADD\n",
    "    #\n",
    "    # Return with vector size\n",
    "    return np.reshape(grd,nt*nx)"
   ]
  },
  {
   "cell_type": "code",
   "execution_count": null,
   "metadata": {},
   "outputs": [],
   "source": [
    "# Iterative mininisation (exemple)\n",
    "niter = 10 # number of iterations\n",
    "p0 = np.reshape(np.copy(gpanel),nt*nx)\n",
    "res = minimize(defj, p0, method='cg', \\\n",
    "                jac=defg, \\\n",
    "                options={'disp': True, 'maxiter':niter})\n",
    "# Final panel\n",
    "panelf = np.reshape(res.x,[nt,nx])"
   ]
  },
  {
   "cell_type": "markdown",
   "metadata": {},
   "source": [
    "# Question 5 : analyse des limites de l'approche\n",
    "Proposer une analyse des limites des approches 1 et 2, par exemple au travers d'applications sur des données bruitées, qui contiennent des événements qui ne sont pas linéaires, pourquoi pas sur des images dans un contexte très différent. **Cette dernière partie est très ouverte, et j'attends des investigations possiblement très variées.**\n"
   ]
  },
  {
   "cell_type": "code",
   "execution_count": null,
   "metadata": {},
   "outputs": [],
   "source": []
  }
 ],
 "metadata": {
  "kernelspec": {
   "display_name": "Python 3",
   "language": "python",
   "name": "python3"
  },
  "language_info": {
   "codemirror_mode": {
    "name": "ipython",
    "version": 3
   },
   "file_extension": ".py",
   "mimetype": "text/x-python",
   "name": "python",
   "nbconvert_exporter": "python",
   "pygments_lexer": "ipython3",
   "version": "3.8.3"
  },
  "metadata": {
   "interpreter": {
    "hash": "c228392f59202b09b773167244b400822ab22a5b07c86225d4e3b3d59b666bb5"
   }
  }
 },
 "nbformat": 4,
 "nbformat_minor": 4
}
