{
 "cells": [
  {
   "cell_type": "markdown",
   "metadata": {},
   "source": [
    "# MINES ParisTech - PSL - Semestre 2 - Traitement du Signal\n",
    "# Mini-projet groupe 2 : interpolation de données manquantes\n",
    "# Judith Bellon & Louis-Justin Tallot\n",
    "Contexte : dans le cadre d'acquisition de données sismiques, des capteurs (récepteurs) sont positionnés le long d'une ligne à la surface de la terre. Chacun enregistre au cours du temps le deplacement des particules (signal oscillant) qui varie lors du passage d'une onde acoustique ou élastique. Cet enregistrement s'appelle une **trace**.\n",
    "\n",
    "En pratique, il arrive que certains capteurs sont défaillants ou encore qu'ils ne sont pas présents dans certaines zones (pour des problèmes d'accessibilité par exemple). L'objectif principal du mini-projet est de reconstituer les traces manquantes.\n",
    "\n",
    "Hypotheses : nous ferons l'hypothèse importante que les **signaux correspondent à la superposition lineaire d'ondes planes** dans les enregistrements (voir l'exemple fourni plus bas avec 3 événements).\n",
    "\n",
    "Notions abordées : \n",
    "* Analyse des signaux après transformée de Fourier 2d\n",
    "* Analyse de signaux aliasés\n",
    "* Régularisation et formulation sous forme de problème inverse\n",
    "\n",
    "Pour cela, deux approches sont considerées :\n",
    "* Approche 1 : transformée de Fourier 2d, identification des événements principaux, définition d'un masque et reconstitution des traces manquantes\n",
    "* Approche 2 : suite de l'approche 1 pour s'assurer que la prédiction respecte bien les observables. Elle se fait au travers de la résolution d'un problème inverse avec ajout de régularisation\n",
    "\n",
    "Attentes :\n",
    "* Développement des approches 1 et 2 sur des données fournies ici\n",
    "* Discusssion des limites des approches sur des exemples que vous pourrez créer vous-mêmes\n",
    "\n",
    "Consignes :\n",
    "* **Très important** : pour toutes les figures, bien indiquer les axes avec les bonnes unités et des labels de taille lisibles"
   ]
  },
  {
   "cell_type": "code",
   "execution_count": null,
   "metadata": {},
   "outputs": [],
   "source": [
    "import numpy as np\n",
    "import matplotlib.pyplot as plt\n",
    "# Pour la question 4\n",
    "from scipy.optimize import minimize"
   ]
  },
  {
   "cell_type": "code",
   "execution_count": null,
   "metadata": {},
   "outputs": [],
   "source": [
    "# Labelsize (display)\n",
    "labelsize   = 14\n",
    "    \n",
    "# Load the input data\n",
    "# Input data (with missing traces)\n",
    "gpanel = np.load('gpanel.npy')\n",
    "# Dense data (with all traces, only for comparison)\n",
    "panel_dense = np.load('panel_dense.npy')\n",
    "nt, nx = gpanel.shape\n",
    "\n",
    "# Vertical axis -- time\n",
    "dt   = 3.125e-3  # increment (s)\n",
    "at   = np.linspace(0, dt*(nt-1), nt)\n",
    "# Horizontal axis -- space\n",
    "dx   = 10. # increment (m)\n",
    "ax   = np.linspace(0, dx*(nx-1), nx)"
   ]
  },
  {
   "cell_type": "code",
   "execution_count": null,
   "metadata": {},
   "outputs": [],
   "source": [
    "def display_data(data, titre=\"\", x_label=\"Position x (m)\", y_label=\"Time (s)\", extent=None):\n",
    "    fig = plt.figure()\n",
    "    av = plt.subplot(111)\n",
    "    \n",
    "    if extent is not None:\n",
    "        plt.imshow(data, extent=extent, aspect=\"auto\")\n",
    "    else:\n",
    "        plt.imshow(data, aspect=\"auto\")\n",
    "        \n",
    "    plt.title(titre, fontsize=14)\n",
    "    av.set_ylabel(y_label, fontsize=14)\n",
    "    av.set_xlabel(x_label, fontsize=14)\n",
    "    vmax = np.max(np.abs(data))\n",
    "    plt.clim(-vmax,vmax)\n",
    "    plt.set_cmap('bwr')    "
   ]
  },
  {
   "cell_type": "code",
   "execution_count": null,
   "metadata": {},
   "outputs": [],
   "source": [
    "display_data(gpanel, \n",
    "             titre='Observables (avec traces manquantes mises à zéro)',\n",
    "            extent=[ax[0],ax[-1],at[-1],at[0]]\n",
    ")\n",
    "\n",
    "display_data(panel_dense, \n",
    "             titre='Observables (seulement pour comparaison)',\n",
    "            extent=[ax[0],ax[-1],at[-1],at[0]]\n",
    ")"
   ]
  },
  {
   "cell_type": "markdown",
   "metadata": {},
   "source": [
    "# Question 1 : analyse des données dans le domaine de Fourier 2d\n",
    "Représenter la transformée de Fourier 2d et bien préciser les axes. Indiquer à quoi correspond la fréquence maximale et le nombre d'onde maximal. Faire le lien entre les événements dans l'espace $(t,x)$ et ceux dans l'espace de Fourier. Expliquer ce qu'il se passe aux bords dans le domaine de Fourier. Ne pas hésiter à zoomer dans le domaine de Fourier."
   ]
  },
  {
   "cell_type": "code",
   "execution_count": null,
   "metadata": {},
   "outputs": [],
   "source": [
    "tf = np.fft.fftshift(np.fft.fft2(gpanel))\n",
    "af1 = np.fft.fftshift(np.fft.fftfreq(nx, d=dx))\n",
    "af2 = np.fft.fftshift(np.fft.fftfreq(nt, d=dt))"
   ]
  },
  {
   "cell_type": "code",
   "execution_count": null,
   "metadata": {},
   "outputs": [],
   "source": [
    "display_data(np.abs(tf), \n",
    "             titre='Transformée de Fourier (avec traces manquantes mises à zéro)',\n",
    "             x_label=\"Nombre d'onde (m$^{-1}$)\",\n",
    "             y_label=\"Fréquence (s$^{-1}$)\",\n",
    "             extent=[af1[0],af1[-1],af2[0],af2[-1]]\n",
    ")\n",
    "display_data(np.abs(tf), \n",
    "             titre='Transformée de Fourier (avec traces manquantes mises à zéro)\\nZoom sur la partie centrale significative',\n",
    "             x_label=\"Nombre d'onde (m$^{-1}$)\",\n",
    "             y_label=\"Fréquence (s$^{-1}$)\",\n",
    "             extent=[af1[0],af1[-1],af2[0],af2[-1]]\n",
    ")\n",
    "plt.ylim(-20, 20);"
   ]
  },
  {
   "cell_type": "markdown",
   "metadata": {},
   "source": [
    "# Question 2 : définition d'un masque dans le domaine de Fourier 2d\n",
    "On note $f$ la fréquence et $k_x$ le nombre d'onde. Dans le domaine de Fourier 2d, on souhaite definir un masque avec des 1 qui couvrent les événements principaux. On va supposer que les événements dans le domaine $(t,x)$ sont linéaires. Montrer qu'il en est de même dans le domaine $(f,k_x)$. A partir de $(f,k_x)=(0,0)$, faire des sommations selon différentes pentes (dans le domaine de Fourier, apres avoir pris le module des valeurs complexes) et tracer la valeur de ces sommes en fonction de la pente. On s'attend à ce que 3 valeurs ressortent. Calculer une fonction qui sélectionne automatiquement ces valeurs et construire un masque dans le domaine de Fourier 2d qui vaut 1 autour de ces trois valeurs principales et 0 en dehors."
   ]
  },
  {
   "cell_type": "code",
   "execution_count": null,
   "metadata": {},
   "outputs": [],
   "source": [
    "tf = np.fft.fftshift(np.fft.fft2(gpanel))\n",
    "abs_data = np.abs(tf)"
   ]
  },
  {
   "cell_type": "code",
   "execution_count": null,
   "metadata": {},
   "outputs": [],
   "source": [
    "# on réalise un tableau avec des pentes qui \n",
    "# varient de manière régulière entre -300 et 300, \n",
    "# en couvrant les grandes et les petites valeurs\n",
    "\n",
    "tableau_pentes_positif = [10/n for n in range(100, 0, -1)] \\\n",
    "               + [n for n in range(11, 50, 3)] \\\n",
    "               + [10 * n for n in range(6, 30, 2)]\n",
    "tableau_pentes_negatif = list(reversed(list(map(lambda x:-x, tableau_pentes_positif))))\n",
    "\n",
    "tableau_pentes = tableau_pentes_negatif + tableau_pentes_positif"
   ]
  },
  {
   "cell_type": "code",
   "execution_count": null,
   "metadata": {},
   "outputs": [],
   "source": [
    "# le centre est en (15, 200)\n",
    "# on veut donc des droites de la forme :\n",
    "# (y - 200) = pente * (x - 15)\n",
    "\n",
    "# display_data(abs_data,\n",
    "#              titre='Sommation de la transformée de Fourier sur différentes pentes',\n",
    "#              x_label=\"Nombre d'onde (m$^{-1}$)\",\n",
    "#              y_label=\"Fréquence (s$^{-1}$)\"\n",
    "# )\n",
    "# plt.xlim(0,29)\n",
    "# plt.ylim(220, 180);\n"
   ]
  },
  {
   "cell_type": "code",
   "execution_count": null,
   "metadata": {},
   "outputs": [],
   "source": [
    "def sommation_pentes_data(data, plot=False):\n",
    "    liste_x = np.array([x for x in range(0, 30+1)])\n",
    "    if plot :\n",
    "        display_data(data,\n",
    "             titre='Sommation de la transformée de Fourier sur différentes pentes',\n",
    "             x_label=\"Nombre d'onde (m$^{-1}$)\",\n",
    "             y_label=\"Fréquence (s$^{-1}$)\"\n",
    "        )\n",
    "        plt.xlim(0,29)\n",
    "        plt.ylim(220, 180)\n",
    "        \n",
    "    tableau_sommation_pentes = []\n",
    "    compteur= 0\n",
    "    for pente in tableau_pentes:\n",
    "        f, k_x = int(15*pente + 200), 0\n",
    "        somme = 0\n",
    "        if plot:\n",
    "            plt.plot(liste_x, np.vectorize(int)(-pente*liste_x+15*pente+200), '.', color=\"b\", linewidth=0.2)\n",
    "        liste_des_kx = list(np.copy([f]))\n",
    "        liste_des_f  = list(np.copy([k_x]))\n",
    "        \n",
    "        while True:\n",
    "            if k_x > 30:\n",
    "                break\n",
    "            try:\n",
    "                somme += data[f, k_x]\n",
    "                k_x += 1\n",
    "                f = int(-pente*k_x+15*pente+200)\n",
    "\n",
    "                liste_des_kx.append(k_x)\n",
    "                liste_des_f.append(f)\n",
    "                \n",
    "            except Exception as e:\n",
    "                compteur += 1\n",
    "                k_x += 1\n",
    "        \n",
    "        if plot:\n",
    "            if len(liste_des_kx) > 1:\n",
    "                plt.plot(liste_des_kx, liste_des_f, '.',color=\"k\")\n",
    "\n",
    "        tableau_sommation_pentes.append((pente,somme))\n",
    "    \n",
    "    return zip(*tableau_sommation_pentes)"
   ]
  },
  {
   "cell_type": "code",
   "execution_count": null,
   "metadata": {},
   "outputs": [],
   "source": [
    "t_pentes, t_sommes = sommation_pentes_data(abs_data, True)\n",
    "\n",
    "plt.figure()\n",
    "plt.plot(t_pentes, t_sommes);\n",
    "plt.xlim(-5, 5);\n",
    "plt.suptitle(\"Sommation de la transformée de Fourier sur différentes pentes\")\n",
    "plt.gca().set_xlabel(\"Valeur de la pente\")\n",
    "plt.gca().set_ylabel(\"Somme sur la pente\");"
   ]
  },
  {
   "cell_type": "code",
   "execution_count": null,
   "metadata": {},
   "outputs": [],
   "source": []
  }
 ],
 "metadata": {
  "kernelspec": {
   "display_name": "Python 3",
   "language": "python",
   "name": "python3"
  },
  "language_info": {
   "codemirror_mode": {
    "name": "ipython",
    "version": 3
   },
   "file_extension": ".py",
   "mimetype": "text/x-python",
   "name": "python",
   "nbconvert_exporter": "python",
   "pygments_lexer": "ipython3",
   "version": "3.8.5"
  }
 },
 "nbformat": 4,
 "nbformat_minor": 4
}
