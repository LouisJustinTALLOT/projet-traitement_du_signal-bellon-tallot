{
 "cells": [
  {
   "cell_type": "markdown",
   "metadata": {},
   "source": [
    "# MINES ParisTech - PSL - Semestre 2 - Traitement du Signal\n",
    "# Mini-projet groupe 2 : interpolation de données manquantes\n",
    "# Judith Bellon & Louis-Justin Tallot\n",
    "Contexte : dans le cadre d'acquisition de données sismiques, des capteurs (récepteurs) sont positionnés le long d'une ligne à la surface de la terre. Chacun enregistre au cours du temps le deplacement des particules (signal oscillant) qui varie lors du passage d'une onde acoustique ou élastique. Cet enregistrement s'appelle une **trace**.\n",
    "\n",
    "En pratique, il arrive que certains capteurs soient défaillants ou encore qu'ils ne soient pas présents dans certaines zones (pour des problèmes d'accessibilité par exemple). L'objectif principal du mini-projet est de reconstituer les traces manquantes.\n",
    "\n",
    "Hypothèses : nous ferons l'hypothèse importante que les **signaux correspondent à la superposition lineaire d'ondes planes** dans les enregistrements (voir l'exemple fourni plus bas avec 3 événements).\n",
    "\n",
    "Notions abordées : \n",
    "* Analyse des signaux après transformée de Fourier 2d\n",
    "* Analyse de signaux aliasés\n",
    "* Régularisation et formulation sous forme de problème inverse\n",
    "\n",
    "Pour cela, deux approches sont considerées :\n",
    "* Approche 1 : transformée de Fourier 2d, identification des événements principaux, définition d'un masque et reconstitution des traces manquantes\n",
    "* Approche 2 : suite de l'approche 1 pour s'assurer que la prédiction respecte bien les observables. Elle se fait au travers de la résolution d'un problème inverse avec ajout de régularisation\n",
    "\n",
    "Attentes :\n",
    "* Développement des approches 1 et 2 sur des données fournies ici\n",
    "* Discusssion des limites des approches sur des exemples que vous pourrez créer vous-mêmes\n",
    "\n",
    "Consignes :\n",
    "* **Très important** : pour toutes les figures, bien indiquer les axes avec les bonnes unités et des labels de taille lisibles"
   ]
  },
  {
   "cell_type": "code",
   "execution_count": null,
   "metadata": {},
   "outputs": [],
   "source": [
    "import numpy as np\n",
    "import matplotlib.pyplot as plt\n",
    "# Pour la question 4\n",
    "from scipy.optimize import minimize"
   ]
  },
  {
   "cell_type": "code",
   "execution_count": null,
   "metadata": {},
   "outputs": [],
   "source": [
    "# Labelsize (display)\n",
    "labelsize   = 14\n",
    "    \n",
    "# Load the input data\n",
    "# Input data (with missing traces)\n",
    "gpanel = np.load('gpanel.npy')\n",
    "# Dense data (with all traces, only for comparison)\n",
    "panel_dense = np.load('panel_dense.npy')\n",
    "nt, nx = gpanel.shape\n",
    "\n",
    "# Vertical axis -- time\n",
    "dt   = 3.125e-3  # increment (s)\n",
    "at   = np.linspace(0, dt*(nt-1), nt)\n",
    "# Horizontal axis -- space\n",
    "dx   = 10. # increment (m)\n",
    "ax   = np.linspace(0, dx*(nx-1), nx)"
   ]
  },
  {
   "cell_type": "code",
   "execution_count": null,
   "metadata": {},
   "outputs": [],
   "source": [
    "def display_data(data, titre=\"\", x_label=\"Position x (m)\", y_label=\"Time (s)\", extent=None):\n",
    "    fig = plt.figure()\n",
    "    av = plt.subplot(111)\n",
    "    \n",
    "    if extent is not None:\n",
    "        plt.imshow(data, extent=extent, aspect=\"auto\")\n",
    "    else:\n",
    "        plt.imshow(data, aspect=\"auto\")\n",
    "        \n",
    "    plt.title(titre, fontsize=14)\n",
    "    av.set_ylabel(y_label, fontsize=14)\n",
    "    av.set_xlabel(x_label, fontsize=14)\n",
    "    vmax = np.max(np.abs(data))\n",
    "    plt.clim(-vmax,vmax)\n",
    "    plt.set_cmap('bwr')    "
   ]
  },
  {
   "cell_type": "code",
   "execution_count": null,
   "metadata": {},
   "outputs": [],
   "source": [
    "display_data(gpanel, \n",
    "             titre='Observables (avec traces manquantes mises à zéro)',\n",
    "             extent=[ax[0],ax[-1],at[-1],at[0]]\n",
    ")\n",
    "\n",
    "display_data(panel_dense, \n",
    "             titre='Observables (seulement pour comparaison)',\n",
    "             extent=[ax[0],ax[-1],at[-1],at[0]]\n",
    ")"
   ]
  },
  {
   "cell_type": "markdown",
   "metadata": {},
   "source": [
    "# Question 1 : analyse des données dans le domaine de Fourier 2d\n",
    "Représenter la transformée de Fourier 2d et bien préciser les axes. Indiquer à quoi correspond la fréquence maximale et le nombre d'onde maximal. Faire le lien entre les événements dans l'espace $(t,x)$ et ceux dans l'espace de Fourier. Expliquer ce qu'il se passe aux bords dans le domaine de Fourier. Ne pas hésiter à zoomer dans le domaine de Fourier."
   ]
  },
  {
   "cell_type": "code",
   "execution_count": null,
   "metadata": {},
   "outputs": [],
   "source": [
    "tf = np.fft.fftshift(np.fft.fft2(gpanel))\n",
    "af1 = np.fft.fftshift(np.fft.fftfreq(nx, d=dx))\n",
    "af2 = np.fft.fftshift(np.fft.fftfreq(nt, d=dt))"
   ]
  },
  {
   "cell_type": "code",
   "execution_count": null,
   "metadata": {},
   "outputs": [],
   "source": [
    "display_data(np.abs(tf), \n",
    "             titre='Transformée de Fourier (avec traces manquantes mises à zéro)',\n",
    "             x_label=\"Nombre d'onde (m$^{-1}$)\",\n",
    "             y_label=\"Fréquence (s$^{-1}$)\",\n",
    "             extent=[af1[0],af1[-1],af2[0],af2[-1]]\n",
    ")\n",
    "display_data(np.abs(tf), \n",
    "             titre='Transformée de Fourier (avec traces manquantes mises à zéro)\\nZoom sur la partie centrale significative',\n",
    "             x_label=\"Nombre d'onde (m$^{-1}$)\",\n",
    "             y_label=\"Fréquence (s$^{-1}$)\",\n",
    "             extent=[af1[0],af1[-1],af2[0],af2[-1]]\n",
    ")\n",
    "plt.ylim(-20, 20);"
   ]
  },
  {
   "cell_type": "markdown",
   "metadata": {},
   "source": [
    "Le nombre d'onde maximal $k = 0,05$ et la fréquence maximale $f = 150$ correspondent aux maximums que l'on peut avoir compte tenu des pas de temps et d'espace utilisés.\n",
    "\n",
    "On remarque que l'on obtient trois directions privilégiées dans la transformée de Fourier, qui correspondent aux trois droites de l'espace $(t, x)$. Il semble que la seule droite de pente négative dans l'espace de Fourier correspond à la droite qui va \"dans l'autre sens\" que les deux autres. Celle qui lui est symétrique correspond à la droite qui forme un angle à peu près droit avec cette première droite. La dernière a logiquement une pente positive, plus importante.\n",
    "\n",
    "Au bord du domaine de Fourier, on observe du repliement spectral: arrivée tout à droite (resp. à gauche) du domaine, la droite continue en fait et se retrouve par translation tout à gauche (resp. à droite), au même niveau."
   ]
  },
  {
   "cell_type": "markdown",
   "metadata": {},
   "source": [
    "# Question 2 : définition d'un masque dans le domaine de Fourier 2d\n",
    "On note $f$ la fréquence et $k_x$ le nombre d'onde. Dans le domaine de Fourier 2d, on souhaite definir un masque avec des 1 qui couvrent les événements principaux. On va supposer que les événements dans le domaine $(t,x)$ sont linéaires. Montrer qu'il en est de même dans le domaine $(f,k_x)$. A partir de $(f,k_x)=(0,0)$, faire des sommations selon différentes pentes (dans le domaine de Fourier, apres avoir pris le module des valeurs complexes) et tracer la valeur de ces sommes en fonction de la pente. On s'attend à ce que 3 valeurs ressortent. Calculer une fonction qui sélectionne automatiquement ces valeurs et construire un masque dans le domaine de Fourier 2d qui vaut 1 autour de ces trois valeurs principales et 0 en dehors."
   ]
  },
  {
   "cell_type": "code",
   "execution_count": null,
   "metadata": {},
   "outputs": [],
   "source": [
    "tf = np.fft.fftshift(np.fft.fft2(gpanel))\n",
    "abs_data = np.abs(tf)"
   ]
  },
  {
   "cell_type": "code",
   "execution_count": null,
   "metadata": {},
   "outputs": [],
   "source": [
    "# on réalise un tableau avec des pentes qui \n",
    "# varient de manière régulière entre -300 et 300, \n",
    "# en couvrant les grandes et les petites valeurs\n",
    "\n",
    "tableau_pentes_positif = [10/n for n in range(100, 0, -1)] \\\n",
    "               + [n for n in range(11, 50, 3)] \\\n",
    "               + [10 * n for n in range(6, 30, 2)]\n",
    "tableau_pentes_negatif = list(reversed(list(map(lambda x:-x, tableau_pentes_positif))))\n",
    "\n",
    "tableau_pentes = tableau_pentes_negatif + tableau_pentes_positif"
   ]
  },
  {
   "cell_type": "code",
   "execution_count": null,
   "metadata": {},
   "outputs": [],
   "source": [
    "# le centre est en (15, 200)\n",
    "# on veut donc des droites de la forme :\n",
    "# (y - 200) = pente * (x - 15)\n",
    "\n",
    "# display_data(abs_data,\n",
    "#              titre='Sommation de la transformée de Fourier sur différentes pentes',\n",
    "#              x_label=\"Nombre d'onde (m$^{-1}$)\",\n",
    "#              y_label=\"Fréquence (s$^{-1}$)\"\n",
    "# )\n",
    "# plt.xlim(0,29)\n",
    "# plt.ylim(220, 180);\n"
   ]
  },
  {
   "cell_type": "code",
   "execution_count": null,
   "metadata": {},
   "outputs": [],
   "source": [
    "def sommation_pentes_data(data, plot=False):\n",
    "    liste_x = np.array([x for x in range(0, 30+1)])\n",
    "    if plot :\n",
    "        display_data(data,\n",
    "             titre='Sommation de la transformée de Fourier sur différentes pentes',\n",
    "             x_label=\"Nombre d'onde (m$^{-1}$)\",\n",
    "             y_label=\"Fréquence (s$^{-1}$)\"\n",
    "        )\n",
    "        plt.xlim(0,29)\n",
    "        plt.ylim(220, 180)\n",
    "        \n",
    "    tableau_sommation_pentes = []\n",
    "    compteur= 0\n",
    "    for pente in tableau_pentes:\n",
    "        f, k_x = int(15*pente + 200), 0\n",
    "        somme = 0\n",
    "        if plot:\n",
    "            plt.plot(liste_x, np.vectorize(int)(-pente*liste_x+15*pente+200), '.', color=\"b\", linewidth=0.2)\n",
    "        liste_des_kx = list(np.copy([f]))\n",
    "        liste_des_f  = list(np.copy([k_x]))\n",
    "        \n",
    "        while True:\n",
    "            if k_x > 30:\n",
    "                break\n",
    "            try:\n",
    "                somme += data[f, k_x]\n",
    "                k_x += 1\n",
    "                f = int(-pente*k_x+15*pente+200)\n",
    "\n",
    "                liste_des_kx.append(k_x)\n",
    "                liste_des_f.append(f)\n",
    "                \n",
    "            except Exception as e:\n",
    "                compteur += 1\n",
    "                k_x += 1\n",
    "        \n",
    "        if plot:\n",
    "            if len(liste_des_kx) > 1:\n",
    "                plt.plot(liste_des_kx, liste_des_f, '.',color=\"k\")\n",
    "\n",
    "        tableau_sommation_pentes.append((pente,somme))\n",
    "    \n",
    "    return zip(*tableau_sommation_pentes)"
   ]
  },
  {
   "cell_type": "code",
   "execution_count": null,
   "metadata": {},
   "outputs": [],
   "source": [
    "t_pentes, t_sommes = sommation_pentes_data(abs_data, True)\n",
    "\n",
    "plt.figure()\n",
    "plt.plot(t_pentes, t_sommes);\n",
    "plt.xlim(-5, 5);\n",
    "plt.suptitle(\"Sommation de la transformée de Fourier sur différentes pentes\")\n",
    "plt.gca().set_xlabel(\"Valeur de la pente\")\n",
    "plt.gca().set_ylabel(\"Somme sur la pente\");"
   ]
  },
  {
   "cell_type": "code",
   "execution_count": null,
   "metadata": {},
   "outputs": [],
   "source": [
    "def reperage_pics(nb_peaks, t_pentes, t_sommes, plot=False, moins=5, plus=5, plot_numero=False):\n",
    "    peaks = [0]*nb_peaks\n",
    "    tab = np.copy(np.array(t_sommes))\n",
    "    for i in range(nb_peaks):\n",
    "        peaks[i] = np.argmax(tab)\n",
    "        tab[peaks[i]-moins:peaks[i]+plus] = 0\n",
    "    \n",
    "    if plot:\n",
    "        plt.plot(t_pentes, t_sommes);\n",
    "        for i in range(nb_peaks):\n",
    "            plt.scatter(t_pentes[peaks[i]], t_sommes[peaks[i]], color=\"red\"); \n",
    "    if plot_numero:\n",
    "        plt.figure()\n",
    "        plt.plot(t_sommes);\n",
    "        for i in range(nb_peaks):\n",
    "            plt.scatter(peaks[i], t_sommes[peaks[i]], color=\"red\"); \n",
    "    return peaks"
   ]
  },
  {
   "cell_type": "code",
   "execution_count": null,
   "metadata": {},
   "outputs": [],
   "source": [
    "reperage_pics(3, *sommation_pentes_data(abs_data), plot=True)\n",
    "plt.xlim(-5, 5);"
   ]
  },
  {
   "cell_type": "code",
   "execution_count": null,
   "metadata": {},
   "outputs": [],
   "source": [
    "def masquage(nb_peaks, peaks, data_shape):\n",
    "    masque = np.zeros(data_shape)\n",
    "    \n",
    "    for i in range(nb_peaks):\n",
    "        for k in range(-2, 3):  # on élargit un peu autour des pics\n",
    "            pente = t_pentes[peaks[i]+k]\n",
    "            f, k_x = int(15*pente + 200), 0\n",
    "            while k_x < 30:\n",
    "                masque[f, k_x] = 1\n",
    "                k_x += 1\n",
    "                f = int(-pente*k_x+15*pente+200)\n",
    "                \n",
    "    return np.copy(masque)"
   ]
  },
  {
   "cell_type": "code",
   "execution_count": null,
   "metadata": {},
   "outputs": [],
   "source": [
    "masque = masquage(3,\n",
    "        reperage_pics(3, *sommation_pentes_data(abs_data), plot=True),\n",
    "        abs_data.shape\n",
    ")\n",
    "plt.xlim(-5, 5);"
   ]
  },
  {
   "cell_type": "markdown",
   "metadata": {},
   "source": [
    "# Question 3 : application du masque et analyse des résultats\n",
    "Appliquer le masque (sur les données après transformée de Fourier 2d, sans prendre le module des valeurs), puis appliquer la transformée de Fourier inverse. Commenter les résultats (comparaison à la fois dans les domaines $(t,x)$ et $(f,k_x)$). Si nécessaire, revenir à la question 2 pour changer le masque et avoir une meilleure interpolation des données. Expliquer ces changements."
   ]
  },
  {
   "cell_type": "code",
   "execution_count": null,
   "metadata": {},
   "outputs": [],
   "source": [
    "reconstituée = np.fft.ifft2(np.fft.ifftshift(tf))"
   ]
  },
  {
   "cell_type": "code",
   "execution_count": null,
   "metadata": {},
   "outputs": [],
   "source": [
    "display_data(np.real(reconstituée),\n",
    "             titre=\"Reconstitution\", \n",
    "             extent=[ax[0],ax[-1],at[-1],at[0]]\n",
    ")"
   ]
  },
  {
   "cell_type": "code",
   "execution_count": null,
   "metadata": {},
   "outputs": [],
   "source": [
    "# on applique le masque"
   ]
  },
  {
   "cell_type": "code",
   "execution_count": null,
   "metadata": {},
   "outputs": [],
   "source": [
    "tf_masquée = tf*masque\n",
    "reconstituée_masquée = np.fft.ifft2(np.fft.ifftshift(tf_masquée))"
   ]
  },
  {
   "cell_type": "code",
   "execution_count": null,
   "metadata": {},
   "outputs": [],
   "source": [
    "display_data(np.abs(tf),\n",
    "             titre=\"Transformée de Fourier (avec traces manquantes mises à zéro)\\nZoom sur la partie centrale significative avant masquage\",\n",
    "             x_label=\"Nombre d'onde (m$^{-1}$)\",\n",
    "             y_label=\"Fréquence (s$^{-1}$)\",\n",
    "             extent=[af1[0],af1[-1],af2[0],af2[-1]]\n",
    "            )\n",
    "plt.ylim(-20, 20)\n",
    "\n",
    "display_data(np.abs(tf_masquée),\n",
    "             titre=\"Transformée de Fourier (avec traces manquantes mises à zéro)\\nZoom sur la partie centrale significative après masquage\",\n",
    "             x_label=\"Nombre d'onde (m$^{-1}$)\",\n",
    "             y_label=\"Fréquence (s$^{-1}$)\",\n",
    "             extent=[af1[0],af1[-1],af2[0],af2[-1]]\n",
    "            )\n",
    "plt.ylim(-20, 20);\n"
   ]
  },
  {
   "cell_type": "code",
   "execution_count": null,
   "metadata": {},
   "outputs": [],
   "source": [
    "display_data(np.real(reconstituée), \n",
    "             titre='Reconstitution sans masque',\n",
    "             extent=[ax[0],ax[-1],at[-1],at[0]]\n",
    ")\n",
    "display_data(np.real(reconstituée_masquée), \n",
    "             titre='Reconstitution avec masque',\n",
    "             extent=[ax[0],ax[-1],at[-1],at[0]]\n",
    ")"
   ]
  },
  {
   "cell_type": "markdown",
   "metadata": {},
   "source": [
    "La reconstitution interpole bien les droite sur les zones initialement vides, mais cela ajoute aussi du bruit à l'image. En particulier, il y a de nouveau du repliement spectral, surtout sur la droite \"la plus horizontale\". Elargir la partie conservée par le masque (en prenant aussi les directions juste autour) permet de diminuerl'importance relative de cette direction par rapport aux deux autres, et donne une image qui nous semble plutôt meilleure."
   ]
  },
  {
   "cell_type": "markdown",
   "metadata": {},
   "source": [
    "# Question 4 : amélioration de l'approche 1\n",
    "Le résultat de l'approche 1 montre en pratique que les données prédites après transformée de Fourier inverse 2d ne calent pas parfaitement aux données observées (pour les traces non nulles). C'est un inconvénient, mais d'un autre côté, ceci offre la possibilité d'aller plus loin forcer un bon calage.\n",
    "\n",
    "Pour cela, nous définissons une fonction objective\n",
    "\n",
    "$$\n",
    "J[p] = \\frac{1}{2}||T p - p^\\mathrm{obs}||_2^2 + \\frac{\\alpha}{2} || F p ||_M^2\n",
    "$$\n",
    "\n",
    "où $p(t,x)$ sont les signaux (sur toutes les traces), $T$ l'operateur qui vaut 1 pour des traces existantes et 0 sinon, $p(t,x)^\\mathrm{obs}$ les observables (i.e. pour les traces non nulles), $F$ la transformee de Fourier 2d. La norme $||p||_2^2 = \\sum_x \\sum_t |p(t,x)|^2$ et $||q||_M^2= \\sum_x \\sum_t M(f,k_x)|q(f,k_x)|^2$, avec $M$ un masque. Le poids $\\alpha$ est une pondération entre les deux termes.\n",
    "\n",
    "On cherche à minimiser $J$. Le meilleur $p$ sera celui qui minimise l'écart aux données (premier terme) tout en minimisant l'énergie dans le domaine de Fourier 2d. Par rapport au masque $M_0$ des questions 2 et 3, on prend ici $M=1 - M_0$. Expliquer pourquoi.\n",
    "\n",
    "La minimisation se fait de manière iterative, avec la fonction ```minimize``` de scipy (```from scipy.optimize import minimize```). Parmi plusieurs possibilités, je suggère de prendre une approche de gradient conjugué (CG). La minisation va se faire selon :\n",
    "\n",
    "```\n",
    "res = minimize(defj, p0, method='CG', jac=defg, \\\n",
    "        options={'disp': True, 'maxiter':niter})\n",
    "```\n",
    "\n",
    "Il faut donc créer une valeur initiale pour $p$ (ici ```p0```), spécifier le nombre d'itérations ```niter``` et surtour définir la fonction objective ```defj()``` et son gradient par rapport à $p$ ```defg()```.\n",
    "\n",
    "Le gradient est donné par \n",
    "\n",
    "$$\n",
    "\\frac{\\partial J}{\\partial p} = T^t(T p - p^\\mathrm{obs}) + \\alpha F^t M F p\n",
    "$$\n",
    "\n",
    "où $^t$ est l'opérateur transposée. L'application de $T^t$ correspond donc à insérer des traces nulles là où il n'y a pas d'observables et $F^t$ est la transformée de Fourier inverse.\n",
    "\n",
    "Construire les fonctions ```defj()``` et ```defg()```. Attention, ```minimize``` attend que ```p``` soit sous forme de vecteur. On peut donc utiliser ```np.transpose(p,nt*nx)```.\n",
    "\n",
    "$\\alpha$ est une pondération dont la valeur est à tester (optimalement les deux termes ont a peu près la même valeur).\n",
    "\n",
    "La valeur initiale ```p0``` de $p$ peut être prise égale à ```gpanel``` (le tableau lu au début du code).\n",
    "\n",
    "Faire plusieurs itérations. Analyser les résultats à la fois dans le domaine temporel et dans le domaine de Fourier 2d. "
   ]
  },
  {
   "cell_type": "code",
   "execution_count": null,
   "metadata": {},
   "outputs": [],
   "source": [
    "T = [gpanel != 0]\n",
    "alpha = 0.1\n",
    "T = np.reshape(T, [nt,nx])\n",
    "M = np.reshape(1 - masque, [nt,nx])\n",
    "\n",
    "def defj(p):\n",
    "    \"\"\"Definition of the objective function\"\"\"\n",
    "    # Retrieve the size\n",
    "    pan = np.reshape(p,[nt,nx])\n",
    "    gpan = np.reshape(gpanel, [nt,nx])\n",
    "    Fp = np.fft.fftshift(np.fft.fft2(pan))  # le masque est défini pour les données shiftées\n",
    "    j0 = 1/2*np.sum((T*pan-gpan)**2) + alpha/2*np.sum(M*(np.real(Fp))**2)\n",
    "    return j0\n",
    "\n",
    "\n",
    "def defg(p):\n",
    "    \"\"\"Definition of the gradient of the objective function\"\"\"\n",
    "    # Retrieve the size\n",
    "    pan = np.reshape(p,[nt,nx])\n",
    "    gpan = np.reshape(gpanel, [nt,nx])\n",
    "    grd = np.zeros([nt,nx])\n",
    "    grd += (T*pan-gpan)  # la multiplication par T transposée ne change rien ici (car T est un projecteur)\n",
    "    Fp = np.fft.fftshift(np.fft.fft2(pan))\n",
    "    grd += alpha*np.real(np.fft.ifft2(np.fft.ifftshift(M*Fp)))\n",
    "    # Return with vector size\n",
    "    return np.reshape(grd, nt*nx)\n"
   ]
  },
  {
   "cell_type": "code",
   "execution_count": null,
   "metadata": {},
   "outputs": [],
   "source": [
    "# Iterative mininisation (exemple)\n",
    "niter = 10 # number of iterations\n",
    "p0 = np.reshape(np.copy(gpanel),nt*nx)\n",
    "res = minimize(defj, p0, jac=defg, method='CG', options={'disp': True, 'maxiter':niter})\n",
    "# Final panel\n",
    "panelf = np.reshape(res.x,[nt,nx])\n"
   ]
  },
  {
   "cell_type": "code",
   "execution_count": null,
   "metadata": {},
   "outputs": [],
   "source": [
    "vmax = np.max(np.real(panelf))\n",
    "display_data(np.real(panelf),\n",
    "             titre=r'Reconstitution améliorée, $\\alpha = 0,1$'\n",
    ")"
   ]
  },
  {
   "cell_type": "markdown",
   "metadata": {},
   "source": [
    "On remarque que quand on augmente beaucoup $\\alpha$, on retrouve à peu près le résultat de l'approche précédente: en effet, comme on cherche moins à avoir le bon résultat sur les zones connues, la deuxième partie de l'optimisation prend le dessus et selectionne les pentes choisies dans la transformée de Fourier, quitte à avoir du repliement.\n",
    "\n",
    "Au contraire, si on prend $\\alpha$ très petit, on reconstitue exactement l'image de départ, avec les trous, puisqu'on ne filtre plus la transformée de Fourier.\n",
    "\n",
    "Entre les deux, on peut trouver de bons compromis, par exemple $\\alpha = 0,1$ me paraît donner des résultats assez satisfaisants: cela complète les signaux tout en gardant un bruit raisonnable autour. "
   ]
  },
  {
   "cell_type": "markdown",
   "metadata": {},
   "source": [
    "# Question 5 : analyse des limites de l'approche\n",
    "Proposer une analyse des limites des approches 1 et 2, par exemple au travers d'applications sur des données bruitées, qui contiennent des événements qui ne sont pas linéaires, pourquoi pas sur des images dans un contexte très différent. **Cette dernière partie est très ouverte, et j'attends des investigations possiblement très variées.**\n"
   ]
  },
  {
   "cell_type": "markdown",
   "metadata": {},
   "source": [
    "Essayons tout d'abord de produire un enregistrement contenant des événements paraboliques."
   ]
  },
  {
   "cell_type": "code",
   "execution_count": null,
   "metadata": {},
   "outputs": [],
   "source": [
    "parabolic_panel = np.zeros(gpanel.shape)\n",
    "for time in range(gpanel.shape[0]):\n",
    "    for space in range(gpanel.shape[1]):\n",
    "#         expr = -100 +time -(space-5)*(space-20)\n",
    "        expr1 = -20+space - 0.001*(time-50)*(time-300)\n",
    "        expr2 = space +0.001*(time-100)*(time-350)\n",
    "        \n",
    "        if (-1 <= expr1) and ( expr1 <= 1):\n",
    "            parabolic_panel[time, space] = 1\n",
    "        if (-1 <= expr2) and ( expr2 <= 1):\n",
    "            parabolic_panel[time, space] = -1"
   ]
  },
  {
   "cell_type": "code",
   "execution_count": null,
   "metadata": {},
   "outputs": [],
   "source": [
    "# on la visualise\n",
    "display_data(parabolic_panel)"
   ]
  },
  {
   "cell_type": "code",
   "execution_count": null,
   "metadata": {},
   "outputs": [],
   "source": [
    "parabolic_panel_missing = np.copy(parabolic_panel)"
   ]
  },
  {
   "cell_type": "code",
   "execution_count": null,
   "metadata": {},
   "outputs": [],
   "source": [
    "for time in range(gpanel.shape[0]):\n",
    "    for space in [2, 8, 12, 22]:\n",
    "        parabolic_panel_missing[time, space] = 0\n",
    "\n",
    "display_data(parabolic_panel_missing)"
   ]
  },
  {
   "cell_type": "code",
   "execution_count": null,
   "metadata": {},
   "outputs": [],
   "source": [
    "tf_para = np.fft.fftshift(np.fft.fft2(parabolic_panel_missing))"
   ]
  },
  {
   "cell_type": "code",
   "execution_count": null,
   "metadata": {},
   "outputs": [],
   "source": [
    "display_data(np.abs(tf_para), \n",
    "             titre='Transformée de Fourier (avec traces manquantes mises à zéro)\\nZoom sur la partie centrale',\n",
    "             x_label=\"Nombre d'onde (m$^{-1}$)\",\n",
    "             y_label=\"Fréquence (s$^{-1}$)\",\n",
    "             extent=[af1[0],af1[-1],af2[0],af2[-1]]\n",
    ")\n",
    "plt.ylim(-50, 50);"
   ]
  },
  {
   "cell_type": "code",
   "execution_count": null,
   "metadata": {},
   "outputs": [],
   "source": [
    "nb_pics = 5\n",
    "masque = masquage(nb_pics,\n",
    "                  reperage_pics(nb_pics, \n",
    "                                *sommation_pentes_data(np.abs(tf_para)), \n",
    "                                                       plot=True, \n",
    "                                                       moins=30, \n",
    "                                                       plus=30),\n",
    "                  abs_data.shape\n",
    ")\n",
    "plt.xlim(-50,50);"
   ]
  },
  {
   "cell_type": "markdown",
   "metadata": {},
   "source": [
    "On voit que la fonction reperage_pics a de la difficulté à trouver les bons pics. En effet, nous voyons en observant la transformée de Fourier qu'il n'y a pas de direction prédominante dans celle-ci."
   ]
  },
  {
   "cell_type": "code",
   "execution_count": null,
   "metadata": {},
   "outputs": [],
   "source": [
    "print(reperage_pics(nb_pics, \n",
    "              *sommation_pentes_data(np.abs(tf_para)), \n",
    "              plot_numero=True, \n",
    "              moins=30, \n",
    "              plus=30\n",
    "), end=\"\\n\\n\")\n",
    "# plt.xlim(0,50);"
   ]
  },
  {
   "cell_type": "code",
   "execution_count": null,
   "metadata": {},
   "outputs": [],
   "source": [
    "# masque = masquage(1, [25], abs_data.shape)"
   ]
  },
  {
   "cell_type": "code",
   "execution_count": null,
   "metadata": {},
   "outputs": [],
   "source": [
    "reconstituée_para = np.fft.ifft2(np.fft.ifftshift(tf_para))\n",
    "reconstituée_masquee_para = np.fft.ifft2(np.fft.ifftshift(tf_para*masque))"
   ]
  },
  {
   "cell_type": "code",
   "execution_count": null,
   "metadata": {},
   "outputs": [],
   "source": [
    "display_data(np.real(reconstituée_para))\n",
    "display_data(np.real(reconstituée_masquee_para))"
   ]
  },
  {
   "cell_type": "markdown",
   "metadata": {},
   "source": [
    "Nous voyons donc qu'il est difficile de reconstituer avec cette approche le signal originel."
   ]
  },
  {
   "cell_type": "markdown",
   "metadata": {},
   "source": [
    "Essayons maintenant avec des événements linéaires comme initialement."
   ]
  },
  {
   "cell_type": "code",
   "execution_count": null,
   "metadata": {},
   "outputs": [],
   "source": [
    "linear_panel = np.zeros(gpanel.shape)\n",
    "for time in range(gpanel.shape[0]):\n",
    "    for space in range(gpanel.shape[1]):\n",
    "#         expr = -100 +time -(space-5)*(space-20)\n",
    "        expr1 = -20+space - 0.3*(time-50)#*(time-300)\n",
    "        expr2 = -20+space +0.1*(time-100)\n",
    "        expr3 = 2*space - 0.3*(time-50)#*(time-300)\n",
    "        \n",
    "        \n",
    "        if (-1 <= expr1) and ( expr1 <= 1):\n",
    "            linear_panel[time, space] = 1\n",
    "        if (-1 <= expr2) and ( expr2 <= 1):\n",
    "            linear_panel[time, space] = -1\n",
    "        if (-1 <= expr3) and ( expr3 <= 1):\n",
    "            linear_panel[time, space] = 3\n",
    "display_data(linear_panel)"
   ]
  },
  {
   "cell_type": "code",
   "execution_count": null,
   "metadata": {},
   "outputs": [],
   "source": [
    "linear_panel_missing = np.copy(linear_panel)"
   ]
  },
  {
   "cell_type": "code",
   "execution_count": null,
   "metadata": {},
   "outputs": [],
   "source": [
    "for time in range(gpanel.shape[0]):\n",
    "    for space in [2, 3, 7, 8, 12, 15, 16, 22, 23, 24]:\n",
    "        linear_panel_missing[time, space] = 0\n",
    "\n",
    "display_data(linear_panel_missing)"
   ]
  },
  {
   "cell_type": "code",
   "execution_count": null,
   "metadata": {},
   "outputs": [],
   "source": [
    "tf_para = np.fft.fftshift(np.fft.fft2(linear_panel_missing))"
   ]
  },
  {
   "cell_type": "code",
   "execution_count": null,
   "metadata": {},
   "outputs": [],
   "source": [
    "display_data(np.abs(tf_para), \n",
    "             titre='Transformée de Fourier (avec traces manquantes mises à zéro)\\nZoom sur la partie centrale',\n",
    "             x_label=\"Nombre d'onde (m$^{-1}$)\",\n",
    "             y_label=\"Fréquence (s$^{-1}$)\",\n",
    "             extent=[af1[0],af1[-1],af2[0],af2[-1]]\n",
    ")\n",
    "plt.ylim(-50, 50);"
   ]
  },
  {
   "cell_type": "code",
   "execution_count": null,
   "metadata": {},
   "outputs": [],
   "source": [
    "nb_pics = 10\n",
    "masque = masquage(nb_pics,\n",
    "                  reperage_pics(nb_pics, \n",
    "                                *sommation_pentes_data(np.abs(tf_para)), \n",
    "                                                       plot=True), \n",
    "#                                                        moins=30, \n",
    "#                                                        plus=40),\n",
    "                  abs_data.shape\n",
    ")\n",
    "plt.xlim(-5,5);"
   ]
  },
  {
   "cell_type": "code",
   "execution_count": null,
   "metadata": {},
   "outputs": [],
   "source": [
    "reconstituée_para = np.fft.ifft2(np.fft.ifftshift(tf_para))\n",
    "reconstituée_masquee_para = np.fft.ifft2(np.fft.ifftshift(tf_para*masque))"
   ]
  },
  {
   "cell_type": "code",
   "execution_count": null,
   "metadata": {},
   "outputs": [],
   "source": [
    "display_data(np.real(reconstituée_para))\n",
    "display_data(np.real(reconstituée_masquee_para))"
   ]
  },
  {
   "cell_type": "markdown",
   "metadata": {},
   "source": [
    "Nous voyons que pour ce signal, la première approche fonctionne mais nous obtenons un événement qui ne correspond pas à la réalité. Nous allons donc essayer d'appliquer la deuxième approche."
   ]
  },
  {
   "cell_type": "code",
   "execution_count": null,
   "metadata": {},
   "outputs": [],
   "source": []
  }
 ],
 "metadata": {
  "kernelspec": {
   "display_name": "Python 3",
   "language": "python",
   "name": "python3"
  },
  "language_info": {
   "codemirror_mode": {
    "name": "ipython",
    "version": 3
   },
   "file_extension": ".py",
   "mimetype": "text/x-python",
   "name": "python",
   "nbconvert_exporter": "python",
   "pygments_lexer": "ipython3",
   "version": "3.8.5"
  }
 },
 "nbformat": 4,
 "nbformat_minor": 4
}
