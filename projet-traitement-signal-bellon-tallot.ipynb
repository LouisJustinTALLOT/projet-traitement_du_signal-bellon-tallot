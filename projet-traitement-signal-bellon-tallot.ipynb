{
 "cells": [
  {
   "cell_type": "markdown",
   "metadata": {},
   "source": [
    "# MINES ParisTech - PSL - Semestre 2 - Traitement du Signal\n",
    "# Mini-projet groupe 2 : interpolation de données manquantes\n",
    "# Judith Bellon & Louis-Justin Tallot\n",
    "Contexte : dans le cadre d'acquisition de données sismiques, des capteurs (récepteurs) sont positionnés le long d'une ligne à la surface de la terre. Chacun enregistre au cours du temps le deplacement des particules (signal oscillant) qui varie lors du passage d'une onde acoustique ou élastique. Cet enregistrement s'appelle une **trace**.\n",
    "\n",
    "En pratique, il arrive que certains capteurs sont défaillants ou encore qu'ils ne sont pas présents dans certaines zones (pour des problèmes d'accessibilité par exemple). L'objectif principal du mini-projet est de reconstituer les traces manquantes.\n",
    "\n",
    "Hypotheses : nous ferons l'hypothèse importante que les **signaux correspondent à la superposition lineaire d'ondes planes** dans les enregistrements (voir l'exemple fourni plus bas avec 3 événements).\n",
    "\n",
    "Notions abordées : \n",
    "* Analyse des signaux après transformée de Fourier 2d\n",
    "* Analyse de signaux aliasés\n",
    "* Régularisation et formulation sous forme de problème inverse\n",
    "\n",
    "Pour cela, deux approches sont considerées :\n",
    "* Approche 1 : transformée de Fourier 2d, identification des événements principaux, définition d'un masque et reconstitution des traces manquantes\n",
    "* Approche 2 : suite de l'approche 1 pour s'assurer que la prédiction respecte bien les observables. Elle se fait au travers de la résolution d'un problème inverse avec ajout de régularisation\n",
    "\n",
    "Attentes :\n",
    "* Développement des approches 1 et 2 sur des données fournies ici\n",
    "* Discusssion des limites des approches sur des exemples que vous pourrez créer vous-mêmes\n",
    "\n",
    "Consignes :\n",
    "* **Très important** : pour toutes les figures, bien indiquer les axes avec les bonnes unités et des labels de taille lisibles"
   ]
  },
  {
   "cell_type": "code",
   "execution_count": null,
   "metadata": {},
   "outputs": [],
   "source": [
    "import numpy as np\n",
    "import matplotlib.pyplot as plt\n",
    "# Pour la question 4\n",
    "from scipy.optimize import minimize"
   ]
  },
  {
   "cell_type": "code",
   "execution_count": null,
   "metadata": {},
   "outputs": [],
   "source": [
    "# Labelsize (display)\n",
    "labelsize   = 14\n",
    "    \n",
    "# Load the input data\n",
    "# Input data (with missing traces)\n",
    "gpanel = np.load('gpanel.npy')\n",
    "# Dense data (with all traces, only for comparison)\n",
    "panel_dense = np.load('panel_dense.npy')\n",
    "nt, nx = gpanel.shape\n",
    "\n",
    "# Vertical axis -- time\n",
    "dt   = 3.125e-3  # increment (s)\n",
    "at   = np.linspace(0, dt*(nt-1), nt)\n",
    "# Horizontal axis -- space\n",
    "dx   = 10. # increment (m)\n",
    "ax   = np.linspace(0, dx*(nx-1), nx)"
   ]
  },
  {
   "cell_type": "code",
   "execution_count": null,
   "metadata": {},
   "outputs": [],
   "source": [
    "def display_data(data, titre=\"\", x_label=\"Position x (m)\", y_label=\"Time (s)\", extent=None):\n",
    "    fig = plt.figure()\n",
    "    av = plt.subplot(111)\n",
    "    \n",
    "    if extent is not None:\n",
    "        plt.imshow(data, extent=extent, aspect=\"auto\")\n",
    "    else:\n",
    "        plt.imshow(data, aspect=\"auto\")\n",
    "        \n",
    "    plt.title(titre, fontsize=14)\n",
    "    av.set_ylabel(y_label, fontsize=14)\n",
    "    av.set_xlabel(x_label, fontsize=14)\n",
    "    vmax = np.max(np.abs(gpanel))\n",
    "    plt.clim([-vmax,vmax])\n",
    "    plt.set_cmap('bwr')    "
   ]
  },
  {
   "cell_type": "code",
   "execution_count": null,
   "metadata": {},
   "outputs": [],
   "source": [
    "display_data(gpanel, \n",
    "             titre='Observables (avec traces manquantes mises à zéro)',\n",
    "            extent=[ax[0],ax[-1],at[-1],at[0]]\n",
    ")\n",
    "\n",
    "display_data(panel_dense, \n",
    "             titre='Observables (seulement pour comparaison)',\n",
    "            extent=[ax[0],ax[-1],at[-1],at[0]]\n",
    ")"
   ]
  },
  {
   "cell_type": "code",
   "execution_count": null,
   "metadata": {},
   "outputs": [],
   "source": []
  }
 ],
 "metadata": {
  "kernelspec": {
   "display_name": "Python 3",
   "language": "python",
   "name": "python3"
  },
  "language_info": {
   "codemirror_mode": {
    "name": "ipython",
    "version": 3
   },
   "file_extension": ".py",
   "mimetype": "text/x-python",
   "name": "python",
   "nbconvert_exporter": "python",
   "pygments_lexer": "ipython3",
   "version": "3.8.5"
  }
 },
 "nbformat": 4,
 "nbformat_minor": 4
}
