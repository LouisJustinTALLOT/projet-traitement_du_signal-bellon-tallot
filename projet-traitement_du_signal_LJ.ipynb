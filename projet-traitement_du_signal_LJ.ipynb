{
 "cells": [
  {
   "cell_type": "markdown",
   "metadata": {},
   "source": [
    "# Mini-projet groupe 2 : interpolation de données manquantes\n",
    "Contexte : dans le cadre d'acquisition de données sismiques, des capteurs (récepteurs) sont positionnés le long d'une ligne à la surface de la terre. Chacun enregistre au cours du temps le deplacement des particules (signal oscillant) qui varie lors du passage d'une onde acoustique ou élastique. Cet enregistrement s'appelle une **trace**.\n",
    "\n",
    "En pratique, il arrive que certains capteurs sont défaillants ou encore qu'ils ne sont pas présents dans certaines zones (pour des problèmes d'accessibilité par exemple). L'objectif principal du mini-projet est de reconstituer les traces manquantes.\n",
    "\n",
    "Hypotheses : nous ferons l'hypothèse importante que les **signaux correspondent à la superposition lineaire d'ondes planes** dans les enregistrements (voir l'exemple fourni plus bas avec 3 événements).\n",
    "\n",
    "Notions abordées : \n",
    "* Analyse des signaux après transformée de Fourier 2d\n",
    "* Analyse de signaux aliasés\n",
    "* Régularisation et formulation sous forme de problème inverse\n",
    "\n",
    "Pour cela, deux approches sont considerées :\n",
    "* Approche 1 : transformée de Fourier 2d, identification des événements principaux, définition d'un masque et reconstitution des traces manquantes\n",
    "* Approche 2 : suite de l'approche 1 pour s'assurer que la prédiction respecte bien les observables. Elle se fait au travers de la résolution d'un problème inverse avec ajout de régularisation\n",
    "\n",
    "Attentes :\n",
    "* Développement des approches 1 et 2 sur des données fournies ici\n",
    "* Discusssion des limites des approches sur des exemples que vous pourrez créer vous-mêmes\n",
    "\n",
    "Consignes :\n",
    "* **Très important** : pour toutes les figures, bien indiquer les axes avec les bonnes unités et des labels de taille lisibles"
   ]
  },
  {
   "cell_type": "code",
   "execution_count": 1,
   "metadata": {},
   "outputs": [
    {
     "output_type": "stream",
     "name": "stdout",
     "text": [
      "Using matplotlib backend: TkAgg\n"
     ]
    }
   ],
   "source": [
    "import numpy as np\n",
    "import matplotlib.pyplot as plt\n",
    "# Pour la question 4\n",
    "from scipy.optimize import minimize\n",
    "# %matplotlib auto\n",
    "%matplotlib inline"
   ]
  },
  {
   "cell_type": "code",
   "execution_count": 2,
   "metadata": {},
   "outputs": [],
   "source": [
    "# Labelsize (display)\n",
    "labelsize   = 14\n",
    "    \n",
    "# Load the input data\n",
    "# Input data (with missing traces)\n",
    "gpanel = np.load('gpanel.npy')\n",
    "# Dense data (with all traces, only for comparison)\n",
    "panel_dense = np.load('panel_dense.npy')\n",
    "nt, nx = gpanel.shape\n",
    "\n",
    "# Vertical axis -- time\n",
    "dt   = 3.125e-3  # increment (s)\n",
    "at   = np.linspace(0,dt*(nt-1),nt)\n",
    "# Horizontal axis -- space\n",
    "dx   = 10. # increment (m)\n",
    "ax   = np.linspace(0,dx*(nx-1),nx)"
   ]
  },
  {
   "cell_type": "code",
   "execution_count": null,
   "metadata": {},
   "outputs": [],
   "source": [
    "# Display of the input data\n",
    "vmax    = np.max(np.abs(gpanel))\n",
    "fig = plt.figure()\n",
    "av = plt.subplot(111)\n",
    "plt.imshow(gpanel,extent=[ax[0],ax[-1],at[-1],at[0]],aspect='auto')\n",
    "plt.title('Observables (avec traces manquantes mises à zero)', fontsize = labelsize)\n",
    "av.set_ylabel(\"Time (s)\", fontsize = labelsize)\n",
    "av.set_xlabel(\"Position x (m)\", fontsize = labelsize)\n",
    "av.tick_params(axis='both', which='major', labelsize=labelsize)\n",
    "plt.clim([-vmax,vmax])\n",
    "plt.set_cmap('bwr')\n",
    "\n",
    "fig = plt.figure()\n",
    "av = plt.subplot(111)\n",
    "plt.imshow(panel_dense,extent=[ax[0],ax[-1],at[-1],at[0]],aspect='auto')\n",
    "plt.title('Observables (seulement pour comparaison)', fontsize = labelsize)\n",
    "av.set_ylabel(\"Time (s)\", fontsize = labelsize)\n",
    "av.set_xlabel(\"Position x (m)\", fontsize = labelsize)\n",
    "av.tick_params(axis='both', which='major', labelsize=labelsize)\n",
    "plt.clim([-vmax,vmax])\n",
    "plt.set_cmap('bwr')"
   ]
  },
  {
   "cell_type": "markdown",
   "metadata": {},
   "source": [
    "# Question 1 : analyse des données dans le domaine de Fourier 2d\n",
    "Représenter la transformée de Fourier 2d et bien préciser les axes. Indiquer à quoi correspond la fréquence maximale et le nombre d'onde maximal. Faire le lien entre les événements dans l'espace $(t,x)$ et ceux dans l'espace de Fourier. Expliquer ce qu'il se passe aux bords dans le domaine de Fourier. Ne pas hésiter à zoomer dans le domaine de Fourier."
   ]
  },
  {
   "cell_type": "code",
   "execution_count": 4,
   "metadata": {},
   "outputs": [
    {
     "output_type": "stream",
     "name": "stdout",
     "text": [
      "(400, 30)\n0 : 400\n1 : 30\n\nfréquence maximale :  159.20000000000002\nnb d'onde maximal :  149.33333333333331\n320.0\n"
     ]
    }
   ],
   "source": [
    "# plt.figure()\n",
    "data_2D_fft = np.fft.fft2(gpanel)\n",
    "data_fft2D_orig = np.copy(data_2D_fft)\n",
    "print(data_2D_fft.shape)\n",
    "\n",
    "freq_axis_0 = np.fft.fftfreq(data_2D_fft.shape[0], dt)\n",
    "freq_axis_1 = np.fft.fftfreq(data_2D_fft.shape[1], dt)\n",
    "print(\"0 :\", freq_axis_0.size)\n",
    "print(\"1 :\", freq_axis_1.size)\n",
    "print()\n",
    "print(\"fréquence maximale : \", np.max(freq_axis_0))\n",
    "print(\"nb d'onde maximal : \", np.max(freq_axis_1))\n",
    "print(1/dt)\n",
    "\n",
    "# plt.imshow(np.abs(data_2D_fft),extent=[np.abs(freq_axis_0)[0],np.abs(freq_axis_0)[-1],np.abs(freq_axis_1)[-1],np.abs(freq_axis_1)[0]], aspect = 'auto')"
   ]
  },
  {
   "cell_type": "code",
   "execution_count": 5,
   "metadata": {},
   "outputs": [
    {
     "output_type": "execute_result",
     "data": {
      "text/plain": [
       "<matplotlib.image.AxesImage at 0x1ab7b494be0>"
      ]
     },
     "metadata": {},
     "execution_count": 5
    }
   ],
   "source": [
    "plt.figure()\n",
    "plt.imshow(np.real(data_2D_fft),extent=[np.abs(freq_axis_0)[0],np.abs(freq_axis_0)[-1],np.abs(freq_axis_1)[-1],np.abs(freq_axis_1)[0]], aspect = 'auto')\n",
    "\n"
   ]
  },
  {
   "cell_type": "code",
   "execution_count": 7,
   "metadata": {},
   "outputs": [
    {
     "output_type": "execute_result",
     "data": {
      "text/plain": [
       "<matplotlib.contour.QuadContourSet at 0x1ab7b63c0d0>"
      ]
     },
     "metadata": {},
     "execution_count": 7
    }
   ],
   "source": [
    "plt.figure()\n",
    "plt.contour(freq_axis_1,freq_axis_0,np.imag(data_2D_fft))"
   ]
  },
  {
   "cell_type": "code",
   "execution_count": null,
   "metadata": {},
   "outputs": [],
   "source": []
  },
  {
   "cell_type": "code",
   "execution_count": 8,
   "metadata": {},
   "outputs": [
    {
     "output_type": "stream",
     "name": "stdout",
     "text": [
      "400\n"
     ]
    }
   ],
   "source": [
    "freq_axis_0 = np.fft.fftfreq(data_2D_fft.shape[0], dt)\n",
    "print(freq_axis_0.size)\n",
    "freq_axis_0[:freq_axis_0.size//2];"
   ]
  },
  {
   "cell_type": "code",
   "execution_count": 11,
   "metadata": {},
   "outputs": [],
   "source": [
    "plt.figure()\n",
    "plt.plot(np.abs(freq_axis_0), data_fft2D_orig[:,0]);\n",
    "plt.plot(np.abs(freq_axis_0), data_2D_fft[:,0]);\n",
    "# temporel"
   ]
  },
  {
   "cell_type": "code",
   "execution_count": null,
   "metadata": {},
   "outputs": [],
   "source": [
    "freq_axis_1 = np.fft.fftfreq(data_fft2D_orig.shape[1], dt)\n",
    "freq_axis_1.size"
   ]
  },
  {
   "cell_type": "code",
   "execution_count": null,
   "metadata": {},
   "outputs": [],
   "source": [
    "plt.plot(np.abs(freq_axis_1), data_fft2D_orig[0,:]);\n",
    "plt.plot(np.abs(freq_axis_1), data_2D_fft[0,:]);\n",
    "# spatial"
   ]
  },
  {
   "cell_type": "code",
   "execution_count": 12,
   "metadata": {},
   "outputs": [
    {
     "output_type": "execute_result",
     "data": {
      "text/plain": [
       "array([[ -5.28580267 +0.j        ,  -3.8453576  +1.70579876j,\n",
       "          7.97028451 -6.18236314j, ...,  -7.07834968+12.96265657j,\n",
       "          7.97028451 +6.18236314j,  -3.8453576  -1.70579876j],\n",
       "       [-11.97014868-13.25019701j,   0.33836002 +1.85379365j,\n",
       "          5.94114556 -1.2175584j , ...,  -5.53771073 +1.96482001j,\n",
       "          5.69605387-11.51253642j,   4.90220932 -6.1528001j ],\n",
       "       [ 12.49315162-10.44586898j, -12.72275388+10.84051218j,\n",
       "         -5.38328269 -1.94623059j, ..., -20.55911436-11.78849115j,\n",
       "         -6.68044309 +0.57405224j, -41.56350289+28.66587763j],\n",
       "       ...,\n",
       "       [-15.02143699+16.91758725j,  12.08152742+62.19723496j,\n",
       "        -28.96645542-60.01549156j, ...,  -7.69683846+20.02217919j,\n",
       "         19.42130343+12.98058166j,  -1.04387776+23.77246595j],\n",
       "       [ 12.49315162+10.44586898j, -41.56350289-28.66587763j,\n",
       "         -6.68044309 -0.57405224j, ...,   7.5900022 -28.09502051j,\n",
       "         -5.38328269 +1.94623059j, -12.72275388-10.84051218j],\n",
       "       [-11.97014868+13.25019701j,   4.90220932 +6.1528001j ,\n",
       "          5.69605387+11.51253642j, ...,   1.07240167 +2.17361807j,\n",
       "          5.94114556 +1.2175584j ,   0.33836002 -1.85379365j]])"
      ]
     },
     "metadata": {},
     "execution_count": 12
    }
   ],
   "source": [
    "data_fft2D_orig"
   ]
  },
  {
   "cell_type": "code",
   "execution_count": 20,
   "metadata": {},
   "outputs": [
    {
     "output_type": "execute_result",
     "data": {
      "text/plain": [
       "array([[ -5.28580267 +0.j        ,  -3.8453576  +1.70579876j,\n",
       "          7.97028451 -6.18236314j, ...,   0.         +0.j        ,\n",
       "          0.         +0.j        ,   0.         +0.j        ],\n",
       "       [-11.97014868-13.25019701j,   0.33836002 +1.85379365j,\n",
       "          5.94114556 -1.2175584j , ...,   0.         +0.j        ,\n",
       "          0.         +0.j        ,   0.         +0.j        ],\n",
       "       [ 12.49315162-10.44586898j, -12.72275388+10.84051218j,\n",
       "         -5.38328269 -1.94623059j, ...,   0.         +0.j        ,\n",
       "          0.         +0.j        ,   0.         +0.j        ],\n",
       "       ...,\n",
       "       [-15.02143699+16.91758725j,  12.08152742+62.19723496j,\n",
       "        -28.96645542-60.01549156j, ...,   0.         +0.j        ,\n",
       "          0.         +0.j        ,   0.         +0.j        ],\n",
       "       [ 12.49315162+10.44586898j, -41.56350289-28.66587763j,\n",
       "         -6.68044309 -0.57405224j, ...,   0.         +0.j        ,\n",
       "          0.         +0.j        ,   0.         +0.j        ],\n",
       "       [-11.97014868+13.25019701j,   4.90220932 +6.1528001j ,\n",
       "          5.69605387+11.51253642j, ...,   0.         +0.j        ,\n",
       "          0.         +0.j        ,   0.         +0.j        ]])"
      ]
     },
     "metadata": {},
     "execution_count": 20
    }
   ],
   "source": [
    "# data_2D_fft[15:, :] = 0\n",
    "data_2D_fft = np.copy(data_fft2D_orig)\n",
    "data_2D_fft[:, 10:] = 0\n",
    "data_2D_fft"
   ]
  },
  {
   "cell_type": "code",
   "execution_count": 21,
   "metadata": {},
   "outputs": [],
   "source": [
    "plt.figure()\n",
    "plt.subplot(121).title.set_text(\"original\")\n",
    "plt.imshow(np.real(data_fft2D_orig),extent=[np.abs(freq_axis_0)[0],np.abs(freq_axis_0)[-1],np.abs(freq_axis_1)[-1],np.abs(freq_axis_1)[0]], aspect = 'auto')\n",
    "\n",
    "plt.subplot(122).title.set_text(\"reconstitué\")\n",
    "plt.imshow(np.real(data_2D_fft),extent=[np.abs(freq_axis_0)[0],np.abs(freq_axis_0)[-1],np.abs(freq_axis_1)[-1],np.abs(freq_axis_1)[0]], aspect = 'auto');"
   ]
  },
  {
   "cell_type": "code",
   "execution_count": 22,
   "metadata": {},
   "outputs": [],
   "source": [
    "inv_fft2 = np.fft.ifft2(data_2D_fft)\n",
    "\n",
    "plt.figure()\n",
    "plt.subplot(121).title.set_text(\"original\")\n",
    "plt.imshow(gpanel,extent=[ax[0],ax[-1],at[-1],at[0]],aspect='auto')\n",
    "plt.subplot(122).title.set_text(\"reconstitué\")\n",
    "plt.imshow(np.real(inv_fft2), aspect = 'auto');\n",
    "\n"
   ]
  },
  {
   "cell_type": "markdown",
   "metadata": {},
   "source": [
    "# Question 2 : définition d'un masque dans le domaine de Fourier 2d\n",
    "On note $f$ la fréquence et $k_x$ le nombre d'onde. Dans le domaine de Fourier 2d, on souhaite definir un masque avec des 1 qui couvrent les événements principaux. On va supposer que les événements dans le domaine $(t,x)$ sont linéaires. Montrer qu'il en est de même dans le domaine $(f,k_x)$. A partir de $(f,k_x)=(0,0)$, faire des sommations selon différentes pentes (dans le domaine de Fourier, apres avoir pris le module des valeurs complexes) et tracer la valeur de ces sommes en fonction de la pente. On s'attend à ce que 3 valeurs ressortent. Calculer une fonction qui sélectionne automatiquement ces valeurs et construire un masque dans le domaine de Fourier 2d qui vaut 1 autour de ces trois valeurs principales et 0 en dehors."
   ]
  },
  {
   "cell_type": "code",
   "execution_count": null,
   "metadata": {},
   "outputs": [],
   "source": [
    "plt.figure()\n",
    "plt.imshow(np.abs(data_fft2D_orig), aspect=\"auto\")#,extent=[np.abs(freq_axis_0)[0],np.abs(freq_axis_0)[-1],np.abs(freq_axis_1)[-1],np.abs(freq_axis_1)[0]], aspect = 'auto');\n",
    "# print(np.shape(np.abs(data_fft2D_orig)))\n",
    "# print(np.abs(data_fft2D_orig))\n",
    "# print(np.abs(data_fft2D_orig)[398, 0])\n",
    "# print(np.abs(freq_axis_0))"
   ]
  },
  {
   "cell_type": "markdown",
   "metadata": {},
   "source": [
    "# Question 3 : application du masque et analyse des résultats\n",
    "Appliquer le masque (sur les données après transformée de Fourier 2d, sans prendre le module des valeurs), puis appliquer la transformée de Fourier inverse. Commenter les résultats (comparaison à la fois dans les domaines $(t,x)$ et $(f,k_x)$). Si nécessaire, revenir à la question 2 pour changer le masque et avoir une meilleure interpolation des données. Expliquer ces changements."
   ]
  },
  {
   "cell_type": "code",
   "execution_count": null,
   "metadata": {},
   "outputs": [],
   "source": []
  },
  {
   "cell_type": "markdown",
   "metadata": {},
   "source": [
    "# Question 4 : amélioration de l'approche 1\n",
    "Le résultat de l'approche 1 montre en pratique que les données prédites après transformée de Fourier inverse 2d ne calent pas parfaitement aux données observées (pour les traces non nulles). C'est un inconvénient, mais d'un autre côté, ceci offre la possibilité d'aller plus loin forcer un bon calage.\n",
    "\n",
    "Pour cela, nous définissons une fonction objective\n",
    "\n",
    "$$\n",
    "J[p] = \\frac{1}{2}||T p - p^\\mathrm{obs}||_2^2 + \\frac{\\alpha}{2} || F p ||_M^2\n",
    "$$\n",
    "\n",
    "où $p(t,x)$ sont les signaux (sur toutes les traces), $T$ l'operateur qui vaut 1 pour des traces existantes et 0 sinon, $p(t,x)^\\mathrm{obs}$ les observables (i.e. pour les traces non nulles), $F$ la transformee de Fourier 2d. La norme $||p||_2^2 = \\sum_x \\sum_t |p(t,x)|^2$ et $||q||_M^2= \\sum_x \\sum_t M(f,k_x)|q(f,k_x)|^2$, avec $M$ un masque. Le poids $\\alpha$ est une pondération entre les deux termes.\n",
    "\n",
    "On cherche à minimiser $J$. Le meilleur $p$ sera celui qui minimise l'écart aux données (premier terme) tout en minimisant l'énergie dans le domaine de Fourier 2d. Par rapport au masque $M_0$ des questions 2 et 3, on prend ici $M=1 - M_0$. Expliquer pourquoi.\n",
    "\n",
    "La minimisation se fait de manière iterative, avec la fonction ```minimize``` de scipy (```from scipy.optimize import minimize```). Parmi plusieurs possibilités, je suggère de prendre une approche de gradient conjugué (CG). La minisation va se faire selon :\n",
    "\n",
    "```\n",
    "res = minimize(defj, p0, method='CG', jac=defg, \\\n",
    "        options={'disp': True, 'maxiter':niter})\n",
    "```\n",
    "\n",
    "Il faut donc créer une valeur initiale pour $p$ (ici ```p0```), spécifier le nombre d'itérations ```niter``` et surtour définir la fonction objective ```defj()``` et son gradient par rapport à $p$ ```defg()```.\n",
    "\n",
    "Le gradient est donné par \n",
    "\n",
    "$$\n",
    "\\frac{\\partial J}{\\partial p} = T^t(T p - p^\\mathrm{obs}) + \\alpha F^t M F p\n",
    "$$\n",
    "\n",
    "où $^t$ est l'opérateur transposée. L'application de $T^t$ correspond donc à insérer des traces nulles là où il n'y a pas d'observables et $F^t$ est la transformée de Fourier inverse.\n",
    "\n",
    "Construire les fonctions ```defj()``` et ```defg()```. Attention, ```minimize``` attend que ```p``` soit sous forme de vecteur. On peut donc utiliser ```np.transpose(p,nt*nx)```.\n",
    "\n",
    "$\\alpha$ est une pondération dont la valeur est à tester (optimalement les deux termes ont a peu près la même valeur).\n",
    "\n",
    "La valeur initiale ```p0``` de $p$ peut être prise égale à ```gpanel``` (le tableau lu au début du code).\n",
    "\n",
    "Faire plusieurs itérations. Analyser les résultats à la fois dans le domaine temporel et dans le domaine de Fourier 2d. "
   ]
  },
  {
   "cell_type": "code",
   "execution_count": null,
   "metadata": {},
   "outputs": [],
   "source": [
    "# Exemple de structure du code\n",
    "def defj(p):\n",
    "    \"\"\"Definition of the objective function\"\"\"\n",
    "    # Retrieve the size\n",
    "    pan = np.reshape(p,[nt,nx])\n",
    "    j0  = 0.\n",
    "    # ADD\n",
    "    #\n",
    "    return j0\n",
    "    \n",
    "    \n",
    "def defg(p):\n",
    "    \"\"\"Definition of the gradient of the objective function\"\"\"\n",
    "    # Retrieve the size\n",
    "    pan = np.reshape(p,[nt,nx])\n",
    "    grd = np.zeros([nt,nx])\n",
    "    #\n",
    "    # ADD\n",
    "    #\n",
    "    # Return with vector size\n",
    "    return np.reshape(grd,nt*nx)"
   ]
  },
  {
   "cell_type": "code",
   "execution_count": null,
   "metadata": {},
   "outputs": [],
   "source": [
    "# Iterative mininisation (exemple)\n",
    "niter = 10 # number of iterations\n",
    "p0 = np.reshape(np.copy(gpanel),nt*nx)\n",
    "res = minimize(defj, p0, method='cg', \\\n",
    "                jac=defg, \\\n",
    "                options={'disp': True, 'maxiter':niter})\n",
    "# Final panel\n",
    "panelf = np.reshape(res.x,[nt,nx])"
   ]
  },
  {
   "cell_type": "markdown",
   "metadata": {},
   "source": [
    "# Question 5 : analyse des limites de l'approche\n",
    "Proposer une analyse des limites des approches 1 et 2, par exemple au travers d'applications sur des données bruitées, qui contiennent des événements qui ne sont pas linéaires, pourquoi pas sur des images dans un contexte très différent. **Cette dernière partie est très ouverte, et j'attends des investigations possiblement très variées.**\n"
   ]
  },
  {
   "cell_type": "code",
   "execution_count": null,
   "metadata": {},
   "outputs": [],
   "source": []
  }
 ],
 "metadata": {
  "kernelspec": {
   "display_name": "Python 3",
   "language": "python",
   "name": "python3"
  },
  "language_info": {
   "codemirror_mode": {
    "name": "ipython",
    "version": 3
   },
   "file_extension": ".py",
   "mimetype": "text/x-python",
   "name": "python",
   "nbconvert_exporter": "python",
   "pygments_lexer": "ipython3",
   "version": "3.8.5-final"
  }
 },
 "nbformat": 4,
 "nbformat_minor": 2
}